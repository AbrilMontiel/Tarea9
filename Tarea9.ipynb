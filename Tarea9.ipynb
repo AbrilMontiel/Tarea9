{
  "nbformat": 4,
  "nbformat_minor": 0,
  "metadata": {
    "colab": {
      "name": "Tarea9.ipynb",
      "provenance": [],
      "collapsed_sections": [],
      "authorship_tag": "ABX9TyMQDgy2RWi4rBsZcPpQtknw",
      "include_colab_link": true
    },
    "kernelspec": {
      "name": "python3",
      "display_name": "Python 3"
    },
    "language_info": {
      "name": "python"
    }
  },
  "cells": [
    {
      "cell_type": "markdown",
      "metadata": {
        "id": "view-in-github",
        "colab_type": "text"
      },
      "source": [
        "<a href=\"https://colab.research.google.com/github/AbrilMontiel/Tarea9/blob/master/Tarea9.ipynb\" target=\"_parent\"><img src=\"https://colab.research.google.com/assets/colab-badge.svg\" alt=\"Open In Colab\"/></a>"
      ]
    },
    {
      "cell_type": "code",
      "metadata": {
        "id": "BMVAYbUy5zbE"
      },
      "source": [
        "class StackADT:\n",
        "  def __init__( self ):\n",
        "    self.__data = list()\n",
        "\n",
        "  def is_empty( self ): #refresa true si la lista esta vacia\n",
        "    return len( self.__data ) == 0\n",
        "\n",
        "  def get_length( self ):\n",
        "    return len( self.__data )\n",
        "\n",
        "  def pop( self ):\n",
        "    if self.is_empty():\n",
        "      print(\"Pila vacia, nada que sacar\")\n",
        "    else:\n",
        "      return self.__data.pop()\n",
        "\n",
        "  def peek( self ):\n",
        "    if self.is_empty():\n",
        "      print(\"Pila vacia, nada que sacar\")\n",
        "    else:\n",
        "      return self.__data[ -1 ]\n",
        "  \n",
        "  def push( self, value ):\n",
        "    self.__data.append( value )\n",
        "\n",
        "  def to_string( self ):\n",
        "    for item in self.__data[ ::-1 ]:\n",
        "      print(f\" | { item } | \")"
      ],
      "execution_count": null,
      "outputs": []
    },
    {
      "cell_type": "code",
      "metadata": {
        "colab": {
          "base_uri": "https://localhost:8080/"
        },
        "id": "7GQGeF8QezTB",
        "outputId": "93e854a4-905d-43a0-db30-de76304b3108"
      },
      "source": [
        "!cat prog.txt"
      ],
      "execution_count": null,
      "outputs": [
        {
          "output_type": "stream",
          "name": "stdout",
          "text": [
            "#include <stdio.h>\n",
            "\n",
            "int main()\n",
            "{\n",
            "    int num, count, sum = 0;\n",
            "\n",
            "    printf(\"Enter a positive integer: \");\n",
            "    scanf(\"%d\", &num);\n",
            "\n",
            "    // for loop terminates when num is less than count\n",
            "    for(count = 1; count <= num; ++count)\n",
            "    {\n",
            "        sum += count;\n",
            "    }\n",
            "\n",
            "    printf(\"Sum = %d\", sum);\n",
            "\n",
            "    return 0;\n",
            "}"
          ]
        }
      ]
    },
    {
      "cell_type": "code",
      "metadata": {
        "colab": {
          "base_uri": "https://localhost:8080/"
        },
        "id": "rEJPZCeee9Hh",
        "outputId": "6783425d-0321-41b0-f00d-7e97a3045a95"
      },
      "source": [
        "print(\"---- BALANCEO DE LLAVES ----\")\n",
        "entrada = open( 'prog.txt', 'rt' )\n",
        "codigo = entrada.read()\n",
        "\n",
        "pilaControl = StackADT()\n",
        "pilaControl.push( '#' ) \n",
        "\n",
        "for letra in codigo:\n",
        "  \n",
        "  if letra == '{' :  \n",
        "    pilaControl.push( \"{\" )\n",
        "  elif letra == '}':  \n",
        "    basura = pilaControl.pop()\n",
        "  else:\n",
        "    pass\n",
        "\n",
        "#NOTA: Este codigo aun no contempla desbalanceo de mas llaves de cierre\n",
        "\n",
        "if pilaControl.peek() == '#':\n",
        "  print(\"El codigo proporcionado esta correctamente balanceado\")\n",
        "else:\n",
        "  print(\"El codigo no esta balanceado en llaves { y } \")"
      ],
      "execution_count": null,
      "outputs": [
        {
          "output_type": "stream",
          "name": "stdout",
          "text": [
            "---- BALANCEO DE LLAVES ----\n",
            "El codigo proporcionado esta correctamente balanceado\n"
          ]
        }
      ]
    },
    {
      "cell_type": "code",
      "metadata": {
        "colab": {
          "base_uri": "https://localhost:8080/"
        },
        "id": "NRFdlvyxfDdI",
        "outputId": "f0b53c0e-319e-47dd-86e7-1626caaa90dd"
      },
      "source": [
        "print(\"---- BALANCEO DE PARENTESIS ---\")\n",
        "entrada = open( 'prog.txt', 'rt' )\n",
        "codigo = entrada.read()\n",
        "\n",
        "pilaControl = StackADT()\n",
        "pilaControl.push( '#' )\n",
        "\n",
        "for letra in codigo:\n",
        "  if letra == '(' :   \n",
        "    pilaControl.push( \"(\" )\n",
        "  elif letra == ')':  \n",
        "    basura = pilaControl.pop()\n",
        "  else:\n",
        "    pass\n",
        "    \n",
        "#NOTA: Este codigo aun no contempla desbalanceo de mas llaves de cierre\n",
        "\n",
        "if pilaControl.peek() == '#':\n",
        "  print(\"El codigo proporcionado esta correctamente balanceado\")\n",
        "else:\n",
        "  print(\"El codigo no esta balanceado en parentesis ( y ) \")"
      ],
      "execution_count": null,
      "outputs": [
        {
          "output_type": "stream",
          "name": "stdout",
          "text": [
            "---- BALANCEO DE PARENTESIS ---\n",
            "El codigo proporcionado esta correctamente balanceado\n"
          ]
        }
      ]
    }
  ]
}